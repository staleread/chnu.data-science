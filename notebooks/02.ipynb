{
 "cells": [
  {
   "cell_type": "code",
   "execution_count": 1,
   "id": "ed5381f7",
   "metadata": {
    "collapsed": false,
    "jupyter": {
     "outputs_hidden": false,
     "source_hidden": false
    }
   },
   "outputs": [],
   "source": [
    "import pandas as pd\n",
    "import matplotlib.pyplot as plt"
   ]
  },
  {
   "cell_type": "code",
   "execution_count": 2,
   "id": "77ca15db",
   "metadata": {
    "collapsed": false,
    "jupyter": {
     "outputs_hidden": false,
     "source_hidden": false
    }
   },
   "outputs": [],
   "source": [
    "df = pd.read_excel(\"data/COVID_19.xlsx\")"
   ]
  },
  {
   "cell_type": "code",
   "execution_count": 3,
   "id": "d78c6fa3",
   "metadata": {
    "collapsed": false,
    "jupyter": {
     "outputs_hidden": false,
     "source_hidden": false
    }
   },
   "outputs": [
    {
     "name": "stdout",
     "output_type": "stream",
     "text": [
      "<class 'pandas.core.frame.DataFrame'>\n",
      "RangeIndex: 3308 entries, 0 to 3307\n",
      "Data columns (total 14 columns):\n",
      " #   Column                                 Non-Null Count  Dtype         \n",
      "---  ------                                 --------------  -----         \n",
      " 0   Date time                              3308 non-null   datetime64[ns]\n",
      " 1   Age                                    3303 non-null   object        \n",
      " 2   Gender                                 3297 non-null   object        \n",
      " 3   Region                                 3286 non-null   object        \n",
      " 4   Do you smoke?                          3269 non-null   object        \n",
      " 5   Have you had Covid`19 this year?       3305 non-null   object        \n",
      " 6   IgM level                              3232 non-null   object        \n",
      " 7   IgG level                              3248 non-null   object        \n",
      " 8   Blood group                            3252 non-null   float64       \n",
      " 9   Do you vaccinated influenza?           3294 non-null   object        \n",
      " 10  Do you vaccinated tuberculosis?        3303 non-null   object        \n",
      " 11  Have you had influenza this year?      3299 non-null   object        \n",
      " 12  Have you had tuberculosis this year?   3299 non-null   object        \n",
      " 13  Maximum body temperature               1533 non-null   float64       \n",
      "dtypes: datetime64[ns](1), float64(2), object(11)\n",
      "memory usage: 361.9+ KB\n"
     ]
    }
   ],
   "source": [
    "df.info()"
   ]
  },
  {
   "cell_type": "code",
   "execution_count": 4,
   "id": "e4bb17e7",
   "metadata": {
    "collapsed": false,
    "jupyter": {
     "outputs_hidden": false,
     "source_hidden": false
    }
   },
   "outputs": [],
   "source": [
    "df = df.rename(columns={\n",
    "    \"Date time\": \"date_time\",\n",
    "    \"Age\": \"age\",\n",
    "    \"Gender\": \"gender\",\n",
    "    \"Region\": \"region\",\n",
    "    \"Do you smoke?\": \"is_smoker\",\n",
    "    \"Have you had Covid`19 this year?\": \"had_covid_this_year\",\n",
    "    \"IgM level\": \"igm_level\",\n",
    "    \"IgG level\": \"igg_level\",\n",
    "    \"Blood group\": \"blood_group\",\n",
    "    \"Do you vaccinated influenza?\": \"is_vaccinated_influenza\",\n",
    "    \"Do you vaccinated tuberculosis?\": \"is_vaccinated_tuberculosis\",\n",
    "    \"Have you had influenza this year?\": \"had_influenza_this_year\",\n",
    "    \"Have you had tuberculosis this year? \": \"had_tuberculosis_this_year\",\n",
    "    \"Maximum body temperature\": \"max_body_temp\",\n",
    "})"
   ]
  },
  {
   "cell_type": "code",
   "execution_count": 5,
   "id": "385fb4ec",
   "metadata": {
    "collapsed": false,
    "jupyter": {
     "outputs_hidden": false,
     "source_hidden": false
    }
   },
   "outputs": [
    {
     "name": "stdout",
     "output_type": "stream",
     "text": [
      "<class 'pandas.core.frame.DataFrame'>\n",
      "RangeIndex: 3308 entries, 0 to 3307\n",
      "Data columns (total 14 columns):\n",
      " #   Column                      Non-Null Count  Dtype         \n",
      "---  ------                      --------------  -----         \n",
      " 0   date_time                   3308 non-null   datetime64[ns]\n",
      " 1   age                         3303 non-null   object        \n",
      " 2   gender                      3297 non-null   object        \n",
      " 3   region                      3286 non-null   object        \n",
      " 4   is_smoker                   3269 non-null   object        \n",
      " 5   had_covid_this_year         3305 non-null   object        \n",
      " 6   igm_level                   3232 non-null   object        \n",
      " 7   igg_level                   3248 non-null   object        \n",
      " 8   blood_group                 3252 non-null   float64       \n",
      " 9   is_vaccinated_influenza     3294 non-null   object        \n",
      " 10  is_vaccinated_tuberculosis  3303 non-null   object        \n",
      " 11  had_influenza_this_year     3299 non-null   object        \n",
      " 12  had_tuberculosis_this_year  3299 non-null   object        \n",
      " 13  max_body_temp               1533 non-null   float64       \n",
      "dtypes: datetime64[ns](1), float64(2), object(11)\n",
      "memory usage: 361.9+ KB\n"
     ]
    }
   ],
   "source": [
    "df.info()"
   ]
  },
  {
   "cell_type": "markdown",
   "id": "c506e3c4",
   "metadata": {
    "jupyter": {
     "source_hidden": false
    }
   },
   "source": [
    "Let's check whether \"Date time\" is good to become an index column:"
   ]
  },
  {
   "cell_type": "code",
   "execution_count": 6,
   "id": "db581211",
   "metadata": {
    "collapsed": false,
    "jupyter": {
     "outputs_hidden": false,
     "source_hidden": false
    }
   },
   "outputs": [
    {
     "name": "stdout",
     "output_type": "stream",
     "text": [
      "\"Date time\" duplicates found: 1246\n"
     ]
    },
    {
     "name": "stdout",
     "output_type": "stream",
     "text": [
      "Thats's 37.66626360338573%\n"
     ]
    }
   ],
   "source": [
    "date_time_duplicates_cnt = df[\"date_time\"].duplicated(keep=\"first\").sum()\n",
    "\n",
    "print(f\"\\\"Date time\\\" duplicates found: {date_time_duplicates_cnt}\")\n",
    "print(f\"Thats's {date_time_duplicates_cnt / len(df) * 100}%\")"
   ]
  },
  {
   "cell_type": "markdown",
   "id": "c7bcd9e1",
   "metadata": {
    "jupyter": {
     "source_hidden": false
    }
   },
   "source": [
    "As we can see, the \"Date time\" column has a bunch of duplicates: more than 1/3!\n",
    "That's why we shouldn't use this column as an index"
   ]
  },
  {
   "cell_type": "code",
   "execution_count": 7,
   "id": "fe8adf82",
   "metadata": {
    "collapsed": false,
    "jupyter": {
     "outputs_hidden": false,
     "source_hidden": false
    }
   },
   "outputs": [
    {
     "data": {
      "text/html": [
       "<div>\n",
       "<style scoped>\n",
       "    .dataframe tbody tr th:only-of-type {\n",
       "        vertical-align: middle;\n",
       "    }\n",
       "\n",
       "    .dataframe tbody tr th {\n",
       "        vertical-align: top;\n",
       "    }\n",
       "\n",
       "    .dataframe thead th {\n",
       "        text-align: right;\n",
       "    }\n",
       "</style>\n",
       "<table border=\"1\" class=\"dataframe\">\n",
       "  <thead>\n",
       "    <tr style=\"text-align: right;\">\n",
       "      <th></th>\n",
       "      <th>age</th>\n",
       "      <th>gender</th>\n",
       "      <th>region</th>\n",
       "      <th>is_smoker</th>\n",
       "      <th>had_covid_this_year</th>\n",
       "      <th>igm_level</th>\n",
       "      <th>igg_level</th>\n",
       "      <th>blood_group</th>\n",
       "      <th>is_vaccinated_influenza</th>\n",
       "      <th>is_vaccinated_tuberculosis</th>\n",
       "      <th>had_influenza_this_year</th>\n",
       "      <th>had_tuberculosis_this_year</th>\n",
       "      <th>max_body_temp</th>\n",
       "    </tr>\n",
       "    <tr>\n",
       "      <th>date_time</th>\n",
       "      <th></th>\n",
       "      <th></th>\n",
       "      <th></th>\n",
       "      <th></th>\n",
       "      <th></th>\n",
       "      <th></th>\n",
       "      <th></th>\n",
       "      <th></th>\n",
       "      <th></th>\n",
       "      <th></th>\n",
       "      <th></th>\n",
       "      <th></th>\n",
       "      <th></th>\n",
       "    </tr>\n",
       "  </thead>\n",
       "  <tbody>\n",
       "    <tr>\n",
       "      <th>2020-09-20 11:23:15</th>\n",
       "      <td>40-65</td>\n",
       "      <td>Female (Жінка)</td>\n",
       "      <td>Ukraine, Lviv (Львів)</td>\n",
       "      <td>No</td>\n",
       "      <td>Maybe (можливо)</td>\n",
       "      <td>&lt;0.9 (negative/негативний)</td>\n",
       "      <td>0.9-1.1 (indefinable/невизначений)</td>\n",
       "      <td>2.0</td>\n",
       "      <td>Yes</td>\n",
       "      <td>Yes</td>\n",
       "      <td>No</td>\n",
       "      <td>No</td>\n",
       "      <td>38.1</td>\n",
       "    </tr>\n",
       "    <tr>\n",
       "      <th>2020-09-20 11:23:15</th>\n",
       "      <td>23-40</td>\n",
       "      <td>Female (Жінка)</td>\n",
       "      <td>Ukraine, Chernivtsi</td>\n",
       "      <td>No</td>\n",
       "      <td>Yes</td>\n",
       "      <td>&gt;1.1 (positive/позитивний)</td>\n",
       "      <td>0.9-1.1 (indefinable/невизначений)</td>\n",
       "      <td>2.0</td>\n",
       "      <td>No</td>\n",
       "      <td>Yes</td>\n",
       "      <td>No</td>\n",
       "      <td>No</td>\n",
       "      <td>37.0</td>\n",
       "    </tr>\n",
       "    <tr>\n",
       "      <th>2020-09-20 11:23:15</th>\n",
       "      <td>23-40</td>\n",
       "      <td>Female (Жінка)</td>\n",
       "      <td>Ukraine, Lviv (Львів)</td>\n",
       "      <td>No</td>\n",
       "      <td>Maybe (можливо)</td>\n",
       "      <td>&lt;0.9 (negative/негативний)</td>\n",
       "      <td>&lt;0.9 (negative/негативний)</td>\n",
       "      <td>2.0</td>\n",
       "      <td>No</td>\n",
       "      <td>Yes</td>\n",
       "      <td>Yes</td>\n",
       "      <td>No</td>\n",
       "      <td>37.8</td>\n",
       "    </tr>\n",
       "    <tr>\n",
       "      <th>2020-09-20 11:23:15</th>\n",
       "      <td>40-65</td>\n",
       "      <td>Male (Чоловік)</td>\n",
       "      <td>Ukraine, Chernivtsi</td>\n",
       "      <td>No</td>\n",
       "      <td>No</td>\n",
       "      <td>&lt;0.9 (negative/негативний)</td>\n",
       "      <td>&lt;0.9 (negative/негативний)</td>\n",
       "      <td>2.0</td>\n",
       "      <td>No</td>\n",
       "      <td>Yes</td>\n",
       "      <td>No</td>\n",
       "      <td>No</td>\n",
       "      <td>NaN</td>\n",
       "    </tr>\n",
       "  </tbody>\n",
       "</table>\n",
       "</div>"
      ]
     },
     "execution_count": 7,
     "metadata": {},
     "output_type": "execute_result"
    }
   ],
   "source": [
    "# DEMO ONLY!\n",
    "df.set_index(\"date_time\").head(4)"
   ]
  },
  {
   "cell_type": "code",
   "execution_count": 8,
   "id": "8d80bf45",
   "metadata": {
    "collapsed": false,
    "jupyter": {
     "outputs_hidden": false,
     "source_hidden": false
    }
   },
   "outputs": [
    {
     "data": {
      "text/plain": [
       "date_time                        0\n",
       "age                              5\n",
       "gender                          11\n",
       "region                          22\n",
       "is_smoker                       39\n",
       "had_covid_this_year              3\n",
       "igm_level                       76\n",
       "igg_level                       60\n",
       "blood_group                     56\n",
       "is_vaccinated_influenza         14\n",
       "is_vaccinated_tuberculosis       5\n",
       "had_influenza_this_year          9\n",
       "had_tuberculosis_this_year       9\n",
       "max_body_temp                 1775\n",
       "dtype: int64"
      ]
     },
     "execution_count": 8,
     "metadata": {},
     "output_type": "execute_result"
    }
   ],
   "source": [
    "df.isnull().sum()"
   ]
  },
  {
   "cell_type": "code",
   "execution_count": 9,
   "id": "55851d71",
   "metadata": {
    "collapsed": false,
    "jupyter": {
     "outputs_hidden": false,
     "source_hidden": false
    }
   },
   "outputs": [],
   "source": [
    "# Delete columns not related to the research\n",
    "df = df.drop(columns=[\"is_smoker\", \"is_vaccinated_tuberculosis\", \"had_tuberculosis_this_year\"])"
   ]
  },
  {
   "cell_type": "code",
   "execution_count": 10,
   "id": "b5188a4c",
   "metadata": {
    "collapsed": false,
    "jupyter": {
     "outputs_hidden": false,
     "source_hidden": false
    }
   },
   "outputs": [],
   "source": [
    "# Map some rows to boolean\n",
    "df[\"had_covid_this_year\"] = (\n",
    "    df[\"had_covid_this_year\"].map({\"Yes\": True, \"No\": False}).astype(\"boolean\")\n",
    ")\n",
    "\n",
    "df[\"is_vaccinated_influenza\"] = (\n",
    "    df[\"is_vaccinated_influenza\"].map({\"Yes\": True, \"No\": False}).astype(\"boolean\")\n",
    ")\n",
    "\n",
    "df[\"had_influenza_this_year\"] = (\n",
    "    df[\"had_influenza_this_year\"].map({\"Yes\": True, \"No\": False}).astype(\"boolean\")\n",
    ")"
   ]
  },
  {
   "cell_type": "code",
   "execution_count": 11,
   "id": "379eac68",
   "metadata": {
    "collapsed": false,
    "jupyter": {
     "outputs_hidden": false,
     "source_hidden": false
    }
   },
   "outputs": [],
   "source": [
    "# Drop rows where any of the essential fields is missing\n",
    "df = df.dropna(subset=[\n",
    "    \"age\",\n",
    "    \"gender\",\n",
    "    \"region\",\n",
    "    \"blood_group\",\n",
    "    \"igm_level\",\n",
    "    \"igg_level\",\n",
    "    \"had_covid_this_year\",\n",
    "    \"is_vaccinated_influenza\",\n",
    "    \"had_influenza_this_year\",\n",
    "])"
   ]
  },
  {
   "cell_type": "code",
   "execution_count": 12,
   "id": "66f3be04",
   "metadata": {
    "collapsed": false,
    "jupyter": {
     "outputs_hidden": false,
     "source_hidden": false
    }
   },
   "outputs": [
    {
     "data": {
      "text/plain": [
       "date_time                     0\n",
       "age                           0\n",
       "gender                        0\n",
       "region                        0\n",
       "had_covid_this_year           0\n",
       "igm_level                     0\n",
       "igg_level                     0\n",
       "blood_group                   0\n",
       "is_vaccinated_influenza       0\n",
       "had_influenza_this_year       0\n",
       "max_body_temp              1478\n",
       "dtype: int64"
      ]
     },
     "execution_count": 12,
     "metadata": {},
     "output_type": "execute_result"
    }
   ],
   "source": [
    "df.isnull().sum()"
   ]
  },
  {
   "cell_type": "code",
   "execution_count": 13,
   "id": "8aa14c6b",
   "metadata": {
    "collapsed": false,
    "jupyter": {
     "outputs_hidden": false,
     "source_hidden": false
    }
   },
   "outputs": [
    {
     "data": {
      "text/plain": [
       "array(['Female', 'Male'], dtype=object)"
      ]
     },
     "execution_count": 13,
     "metadata": {},
     "output_type": "execute_result"
    }
   ],
   "source": [
    "df[\"gender\"] = df[\"gender\"].map({\n",
    "    \"Female (Жінка)\": \"Female\",\n",
    "    \"Male (Чоловік)\": \"Male\",\n",
    "})\n",
    "df[\"gender\"].unique()"
   ]
  },
  {
   "cell_type": "code",
   "execution_count": 14,
   "id": "2d0d7754",
   "metadata": {
    "collapsed": false,
    "jupyter": {
     "outputs_hidden": false,
     "source_hidden": false
    }
   },
   "outputs": [
    {
     "data": {
      "text/plain": [
       "array([37. ,  nan, 37.4, 36.8, 38.5, 37.1, 36.7, 38.3, 36.9, 37.5, 38.7,\n",
       "       38. , 37.2, 38.4, 38.2, 38.6, 37.9, 37.3, 36.6, 38.8, 38.1, 37.6,\n",
       "       37.8, 37.7])"
      ]
     },
     "execution_count": 14,
     "metadata": {},
     "output_type": "execute_result"
    }
   ],
   "source": [
    "df[\"max_body_temp\"].unique()"
   ]
  },
  {
   "cell_type": "code",
   "execution_count": 15,
   "id": "29aaea7d",
   "metadata": {
    "collapsed": false,
    "jupyter": {
     "outputs_hidden": false,
     "source_hidden": false
    }
   },
   "outputs": [],
   "source": [
    "median = round(df[\"max_body_temp\"].median(), 1)\n",
    "df[\"max_body_temp\"] = df[\"max_body_temp\"].fillna(median)"
   ]
  },
  {
   "cell_type": "code",
   "execution_count": 16,
   "id": "7b83eac1",
   "metadata": {
    "collapsed": false,
    "jupyter": {
     "outputs_hidden": false,
     "source_hidden": false
    }
   },
   "outputs": [
    {
     "data": {
      "text/plain": [
       "date_time                  0\n",
       "age                        0\n",
       "gender                     0\n",
       "region                     0\n",
       "had_covid_this_year        0\n",
       "igm_level                  0\n",
       "igg_level                  0\n",
       "blood_group                0\n",
       "is_vaccinated_influenza    0\n",
       "had_influenza_this_year    0\n",
       "max_body_temp              0\n",
       "dtype: int64"
      ]
     },
     "execution_count": 16,
     "metadata": {},
     "output_type": "execute_result"
    }
   ],
   "source": [
    "df.isnull().sum()"
   ]
  },
  {
   "cell_type": "code",
   "execution_count": 17,
   "id": "b5ea865c",
   "metadata": {
    "collapsed": false,
    "jupyter": {
     "outputs_hidden": false,
     "source_hidden": false
    }
   },
   "outputs": [
    {
     "name": "stdout",
     "output_type": "stream",
     "text": [
      "<class 'pandas.core.frame.DataFrame'>\n",
      "Index: 2328 entries, 1 to 3307\n",
      "Data columns (total 11 columns):\n",
      " #   Column                   Non-Null Count  Dtype         \n",
      "---  ------                   --------------  -----         \n",
      " 0   date_time                2328 non-null   datetime64[ns]\n",
      " 1   age                      2328 non-null   object        \n",
      " 2   gender                   2328 non-null   object        \n",
      " 3   region                   2328 non-null   object        \n",
      " 4   had_covid_this_year      2328 non-null   boolean       \n",
      " 5   igm_level                2328 non-null   object        \n",
      " 6   igg_level                2328 non-null   object        \n",
      " 7   blood_group              2328 non-null   float64       \n",
      " 8   is_vaccinated_influenza  2328 non-null   boolean       \n",
      " 9   had_influenza_this_year  2328 non-null   boolean       \n",
      " 10  max_body_temp            2328 non-null   float64       \n",
      "dtypes: boolean(3), datetime64[ns](1), float64(2), object(5)\n",
      "memory usage: 177.3+ KB\n"
     ]
    }
   ],
   "source": [
    "df.info()"
   ]
  },
  {
   "cell_type": "code",
   "execution_count": 18,
   "id": "336284a4",
   "metadata": {
    "collapsed": false,
    "jupyter": {
     "outputs_hidden": false,
     "source_hidden": false
    }
   },
   "outputs": [
    {
     "data": {
      "text/plain": [
       "array(['23-40', '40-65', '16-22', '>65', '0-15'], dtype=object)"
      ]
     },
     "execution_count": 18,
     "metadata": {},
     "output_type": "execute_result"
    }
   ],
   "source": [
    "df[\"age\"].unique()"
   ]
  },
  {
   "cell_type": "code",
   "execution_count": 19,
   "id": "5408cdce",
   "metadata": {
    "collapsed": false,
    "jupyter": {
     "outputs_hidden": false,
     "source_hidden": false
    }
   },
   "outputs": [],
   "source": [
    "df[\"age\"] = df[\"age\"].astype(\"category\")"
   ]
  },
  {
   "cell_type": "code",
   "execution_count": 20,
   "id": "06c307e6",
   "metadata": {
    "collapsed": false,
    "jupyter": {
     "outputs_hidden": false,
     "source_hidden": false
    }
   },
   "outputs": [
    {
     "data": {
      "text/plain": [
       "array(['Female', 'Male'], dtype=object)"
      ]
     },
     "execution_count": 20,
     "metadata": {},
     "output_type": "execute_result"
    }
   ],
   "source": [
    "df[\"gender\"].unique()"
   ]
  },
  {
   "cell_type": "code",
   "execution_count": 21,
   "id": "c66e91ad",
   "metadata": {
    "collapsed": false,
    "jupyter": {
     "outputs_hidden": false,
     "source_hidden": false
    }
   },
   "outputs": [],
   "source": [
    "df[\"gender\"] = df[\"gender\"].astype(\"category\")"
   ]
  },
  {
   "cell_type": "code",
   "execution_count": 22,
   "id": "b9901963",
   "metadata": {
    "collapsed": false,
    "jupyter": {
     "outputs_hidden": false,
     "source_hidden": false
    }
   },
   "outputs": [
    {
     "data": {
      "text/plain": [
       "array(['Ukraine, Chernivtsi', 'Ukraine, Lviv (Львів)', 'Germany',\n",
       "       'Germany (Німеччина)', 'Other (Інше)',\n",
       "       'Ukraine, Chernivtsi (Чернівці)'], dtype=object)"
      ]
     },
     "execution_count": 22,
     "metadata": {},
     "output_type": "execute_result"
    }
   ],
   "source": [
    "df[\"region\"].unique()"
   ]
  },
  {
   "cell_type": "code",
   "execution_count": 23,
   "id": "37529db4",
   "metadata": {
    "collapsed": false,
    "jupyter": {
     "outputs_hidden": false,
     "source_hidden": false
    }
   },
   "outputs": [
    {
     "data": {
      "text/plain": [
       "array(['>1.1 (positive/позитивний)', '<0.9 (negative/негативний)',\n",
       "       '0.9-1.1 (indefinable/невизначений)'], dtype=object)"
      ]
     },
     "execution_count": 23,
     "metadata": {},
     "output_type": "execute_result"
    }
   ],
   "source": [
    "df[\"igm_level\"].unique()"
   ]
  },
  {
   "cell_type": "code",
   "execution_count": 24,
   "id": "58506273",
   "metadata": {
    "collapsed": false,
    "jupyter": {
     "outputs_hidden": false,
     "source_hidden": false
    }
   },
   "outputs": [],
   "source": [
    "df[\"igm_level\"] = df[\"igm_level\"].astype(\"category\")"
   ]
  },
  {
   "cell_type": "code",
   "execution_count": 25,
   "id": "95a8583d",
   "metadata": {
    "collapsed": false,
    "jupyter": {
     "outputs_hidden": false,
     "source_hidden": false
    }
   },
   "outputs": [
    {
     "data": {
      "text/plain": [
       "array(['0.9-1.1 (indefinable/невизначений)', '<0.9 (negative/негативний)',\n",
       "       '>1.1 (positive/позитивний)', '09'], dtype=object)"
      ]
     },
     "execution_count": 25,
     "metadata": {},
     "output_type": "execute_result"
    }
   ],
   "source": [
    "df[\"igg_level\"].unique()"
   ]
  },
  {
   "cell_type": "code",
   "execution_count": 26,
   "id": "267fb642",
   "metadata": {
    "collapsed": false,
    "jupyter": {
     "outputs_hidden": false,
     "source_hidden": false
    }
   },
   "outputs": [],
   "source": [
    "df[\"igg_level\"] = df[\"igg_level\"].astype(\"category\")"
   ]
  },
  {
   "cell_type": "code",
   "execution_count": 27,
   "id": "9c4ec391",
   "metadata": {
    "collapsed": false,
    "jupyter": {
     "outputs_hidden": false,
     "source_hidden": false
    }
   },
   "outputs": [
    {
     "data": {
      "text/plain": [
       "array([2., 1., 3., 4.])"
      ]
     },
     "execution_count": 27,
     "metadata": {},
     "output_type": "execute_result"
    }
   ],
   "source": [
    "df[\"blood_group\"].unique()"
   ]
  },
  {
   "cell_type": "code",
   "execution_count": 28,
   "id": "3f4962db",
   "metadata": {
    "collapsed": false,
    "jupyter": {
     "outputs_hidden": false,
     "source_hidden": false
    }
   },
   "outputs": [],
   "source": [
    "df[\"blood_group\"] = (\n",
    "    df[\"blood_group\"]\n",
    "    .astype(\"Int64\")\n",
    "    .astype(\"string\")\n",
    "    .astype(\"category\")\n",
    ")"
   ]
  },
  {
   "cell_type": "code",
   "execution_count": 29,
   "id": "b39f1e58",
   "metadata": {
    "collapsed": false,
    "jupyter": {
     "outputs_hidden": false,
     "source_hidden": false
    }
   },
   "outputs": [
    {
     "data": {
      "text/html": [
       "<div>\n",
       "<style scoped>\n",
       "    .dataframe tbody tr th:only-of-type {\n",
       "        vertical-align: middle;\n",
       "    }\n",
       "\n",
       "    .dataframe tbody tr th {\n",
       "        vertical-align: top;\n",
       "    }\n",
       "\n",
       "    .dataframe thead th {\n",
       "        text-align: right;\n",
       "    }\n",
       "</style>\n",
       "<table border=\"1\" class=\"dataframe\">\n",
       "  <thead>\n",
       "    <tr style=\"text-align: right;\">\n",
       "      <th></th>\n",
       "      <th>date_time</th>\n",
       "      <th>age</th>\n",
       "      <th>gender</th>\n",
       "      <th>region</th>\n",
       "      <th>had_covid_this_year</th>\n",
       "      <th>igm_level</th>\n",
       "      <th>igg_level</th>\n",
       "      <th>blood_group</th>\n",
       "      <th>is_vaccinated_influenza</th>\n",
       "      <th>had_influenza_this_year</th>\n",
       "      <th>max_body_temp</th>\n",
       "    </tr>\n",
       "  </thead>\n",
       "  <tbody>\n",
       "    <tr>\n",
       "      <th>11</th>\n",
       "      <td>2020-09-20 11:23:15</td>\n",
       "      <td>&gt;65</td>\n",
       "      <td>Female</td>\n",
       "      <td>Ukraine, Lviv (Львів)</td>\n",
       "      <td>False</td>\n",
       "      <td>&lt;0.9 (negative/негативний)</td>\n",
       "      <td>&lt;0.9 (negative/негативний)</td>\n",
       "      <td>1</td>\n",
       "      <td>False</td>\n",
       "      <td>False</td>\n",
       "      <td>37.7</td>\n",
       "    </tr>\n",
       "    <tr>\n",
       "      <th>22</th>\n",
       "      <td>2020-09-20 11:26:01</td>\n",
       "      <td>&gt;65</td>\n",
       "      <td>Female</td>\n",
       "      <td>Ukraine, Lviv (Львів)</td>\n",
       "      <td>True</td>\n",
       "      <td>&gt;1.1 (positive/позитивний)</td>\n",
       "      <td>&lt;0.9 (negative/негативний)</td>\n",
       "      <td>1</td>\n",
       "      <td>False</td>\n",
       "      <td>False</td>\n",
       "      <td>37.1</td>\n",
       "    </tr>\n",
       "    <tr>\n",
       "      <th>24</th>\n",
       "      <td>2020-09-20 11:26:01</td>\n",
       "      <td>&gt;65</td>\n",
       "      <td>Male</td>\n",
       "      <td>Ukraine, Lviv (Львів)</td>\n",
       "      <td>True</td>\n",
       "      <td>&gt;1.1 (positive/позитивний)</td>\n",
       "      <td>&lt;0.9 (negative/негативний)</td>\n",
       "      <td>2</td>\n",
       "      <td>False</td>\n",
       "      <td>False</td>\n",
       "      <td>37.4</td>\n",
       "    </tr>\n",
       "    <tr>\n",
       "      <th>46</th>\n",
       "      <td>2020-09-22 17:35:09</td>\n",
       "      <td>&gt;65</td>\n",
       "      <td>Female</td>\n",
       "      <td>Ukraine, Lviv (Львів)</td>\n",
       "      <td>False</td>\n",
       "      <td>&lt;0.9 (negative/негативний)</td>\n",
       "      <td>&lt;0.9 (negative/негативний)</td>\n",
       "      <td>1</td>\n",
       "      <td>False</td>\n",
       "      <td>False</td>\n",
       "      <td>37.7</td>\n",
       "    </tr>\n",
       "    <tr>\n",
       "      <th>113</th>\n",
       "      <td>2020-09-23 09:26:30</td>\n",
       "      <td>&gt;65</td>\n",
       "      <td>Male</td>\n",
       "      <td>Ukraine, Lviv (Львів)</td>\n",
       "      <td>False</td>\n",
       "      <td>&lt;0.9 (negative/негативний)</td>\n",
       "      <td>&lt;0.9 (negative/негативний)</td>\n",
       "      <td>1</td>\n",
       "      <td>False</td>\n",
       "      <td>False</td>\n",
       "      <td>37.7</td>\n",
       "    </tr>\n",
       "  </tbody>\n",
       "</table>\n",
       "</div>"
      ]
     },
     "execution_count": 29,
     "metadata": {},
     "output_type": "execute_result"
    }
   ],
   "source": [
    "df.sort_values(\n",
    "    by=[\"age\", \"is_vaccinated_influenza\"],\n",
    "    ascending=[False, True]\n",
    ").head(5)"
   ]
  },
  {
   "cell_type": "code",
   "execution_count": 30,
   "id": "f79f0701",
   "metadata": {
    "collapsed": false,
    "jupyter": {
     "outputs_hidden": false,
     "source_hidden": false
    }
   },
   "outputs": [
    {
     "data": {
      "text/plain": [
       "np.float64(37.71666666666667)"
      ]
     },
     "execution_count": 30,
     "metadata": {},
     "output_type": "execute_result"
    }
   ],
   "source": [
    "df.loc[\n",
    "    df[\"had_covid_this_year\"] & df[\"had_influenza_this_year\"],\n",
    "    \"max_body_temp\"\n",
    "].mean()"
   ]
  },
  {
   "cell_type": "code",
   "execution_count": 31,
   "id": "53a12924",
   "metadata": {
    "collapsed": false,
    "jupyter": {
     "outputs_hidden": false,
     "source_hidden": false
    }
   },
   "outputs": [
    {
     "data": {
      "text/plain": [
       "had_influenza_this_year\n",
       "False    1942\n",
       "True      386\n",
       "Name: count, dtype: Int64"
      ]
     },
     "execution_count": 31,
     "metadata": {},
     "output_type": "execute_result"
    }
   ],
   "source": [
    "df[\"had_influenza_this_year\"].value_counts()"
   ]
  },
  {
   "cell_type": "code",
   "execution_count": 32,
   "id": "6f67c822",
   "metadata": {
    "collapsed": false,
    "jupyter": {
     "outputs_hidden": false,
     "source_hidden": false
    }
   },
   "outputs": [],
   "source": [
    "# Distribution of influenza cases by gender\n",
    "df.groupby([\"gender\", \"had_influenza_this_year\"]).size().unstack().plot(\n",
    "    kind=\"bar\",\n",
    "    stacked=True\n",
    ")\n",
    "\n",
    "plt.title(\"Distribution of influenza cases by gender\")\n",
    "plt.ylabel(\"Count\")\n",
    "plt.xlabel(\"Gender\")\n",
    "plt.legend(title=\"Had influenza this year\")\n",
    "plt.show()"
   ]
  },
  {
   "cell_type": "code",
   "execution_count": 35,
   "id": "07711420",
   "metadata": {
    "collapsed": false,
    "jupyter": {
     "outputs_hidden": false,
     "source_hidden": false
    }
   },
   "outputs": [],
   "source": [
    "# Distribution of Covid cases by influenza vaccination\n",
    "df.groupby([\"is_vaccinated_influenza\", \"had_covid_this_year\"]).size().unstack().plot(\n",
    "    kind=\"bar\",\n",
    "    stacked=True\n",
    ")\n",
    "\n",
    "plt.title(\"Covid cases vs Influenza vaccination\")\n",
    "plt.ylabel(\"Count\")\n",
    "plt.xlabel(\"Vaccinated against influenza\")\n",
    "plt.legend(title=\"Had Covid this year\")\n",
    "plt.show()"
   ]
  }
 ],
 "metadata": {
  "kernelspec": {
   "display_name": "Local Python",
   "language": "python",
   "name": "local-python"
  },
  "language_info": {
   "codemirror_mode": {
    "name": "python",
    "version": 3
   },
   "file_extension": ".py",
   "mimetype": "text/x-python",
   "name": "python",
   "nbconvert_exporter": "python",
   "pygments_lexer": "python3",
   "version": "3.13.7"
  },
  "widgets": {
   "application/vnd.jupyter.widget-state+json": {
    "state": {},
    "version_major": 2,
    "version_minor": 0
   }
  }
 },
 "nbformat": 4,
 "nbformat_minor": 5
}
